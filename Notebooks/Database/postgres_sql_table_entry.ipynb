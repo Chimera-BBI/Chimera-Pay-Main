{
 "cells": [
  {
   "cell_type": "code",
   "execution_count": 16,
   "metadata": {},
   "outputs": [],
   "source": [
    "import psycopg2.pool\n",
    "\n",
    "import psycopg2\n",
    "\n",
    "import yaml"
   ]
  },
  {
   "cell_type": "code",
   "execution_count": 17,
   "metadata": {},
   "outputs": [],
   "source": [
    "with open('../../keys.yml', 'r') as file:\n",
    "    keys = yaml.safe_load(file)\n",
    "\n",
    "aws_keys = keys['Chimere_Aws_databse']"
   ]
  },
  {
   "cell_type": "code",
   "execution_count": 27,
   "metadata": {},
   "outputs": [],
   "source": [
    "with open('../../database_structure.yml', 'r') as file:\n",
    "    db_struct = yaml.safe_load(file)"
   ]
  },
  {
   "cell_type": "code",
   "execution_count": 18,
   "metadata": {},
   "outputs": [],
   "source": [
    "\n",
    "\n",
    "pool = psycopg2.pool.SimpleConnectionPool(1, 20,\n",
    "                                            host=aws_keys[\"host\"],\n",
    "                                            port=aws_keys[\"port\"],\n",
    "                                            database=aws_keys[\"database\"],\n",
    "                                            user=aws_keys[\"user\"],\n",
    "                                            password=aws_keys[\"password\"])\n",
    "\n"
   ]
  },
  {
   "attachments": {},
   "cell_type": "markdown",
   "metadata": {},
   "source": [
    "# Testing sql queries"
   ]
  },
  {
   "cell_type": "code",
   "execution_count": 9,
   "metadata": {},
   "outputs": [],
   "source": [
    "query = \"insert into USER_DETAILS (Phone_Number, Name) values ('+919958498945','Test1')\"\n"
   ]
  },
  {
   "cell_type": "code",
   "execution_count": 12,
   "metadata": {},
   "outputs": [],
   "source": [
    "query = \"UPDATE USER_DETAILS SET Name = 'test1', Email = 'test1@gmail.com' where Phone_Number = '+919958498945'\"\n"
   ]
  },
  {
   "cell_type": "code",
   "execution_count": 3,
   "metadata": {},
   "outputs": [],
   "source": [
    "columns = [\"phone\",\"Address\"]\n",
    "#"
   ]
  },
  {
   "cell_type": "code",
   "execution_count": 12,
   "metadata": {},
   "outputs": [],
   "source": [
    "query = \"select phone, Address from chimera_user \"\n",
    "query = \"insert into chimera_user (phone, Address) values ('+919958498945','ABC Address')\"\n",
    "query = \"select phone, Address from chimera_user where phone like '+919958498945'\""
   ]
  },
  {
   "cell_type": "code",
   "execution_count": 13,
   "metadata": {},
   "outputs": [],
   "source": [
    "conn = pool.getconn()\n",
    "conn.autocommit = True\n",
    "with conn.cursor() as cursor:\n",
    "    cursor.execute(query)\n",
    "    # record = cursor.fetchall()\n",
    "pool.putconn(conn)\n",
    "# record\n"
   ]
  },
  {
   "cell_type": "code",
   "execution_count": null,
   "metadata": {},
   "outputs": [],
   "source": []
  },
  {
   "cell_type": "code",
   "execution_count": null,
   "metadata": {},
   "outputs": [],
   "source": []
  },
  {
   "attachments": {},
   "cell_type": "markdown",
   "metadata": {},
   "source": [
    "# Making Functions"
   ]
  },
  {
   "cell_type": "code",
   "execution_count": 24,
   "metadata": {},
   "outputs": [],
   "source": [
    "def execute_enter_data( table_name:str,\n",
    "                        input_dict:dict, \n",
    "                        # column_names:list,\n",
    "                        # values:list,\n",
    "                        update_table:bool = False,\n",
    "                        where_dict:dict = None):\n",
    "                        \n",
    "    \"\"\"The `execute_enter_data` function is used to either insert new data or update existing data in a PostgreSQL database table. The function takes in the following arguments:\n",
    "\n",
    "        - `table_name` : a string representing the name of the table where data is to be inserted/updated.\n",
    "        - `input_dict` : a dictionary containing the column names as keys and the values to be inserted/updated as values.\n",
    "        - `update_table` : a boolean indicating whether data is to be updated in the table or not. Default is False.\n",
    "        - `where_dict` : a dictionary containing the column names and values to be used in the WHERE clause for updating data.\n",
    "\n",
    "        The function returns `1` if the query was executed successfully, `-1` otherwise.\n",
    "        \n",
    "        Example usage for inserting data:\n",
    "\n",
    "        table_name = 'students'\n",
    "        input_dict = {'name': 'John', 'age': 25, 'gender': 'M'}\n",
    "        execute_enter_data(table_name, input_dict)\n",
    "\n",
    "        Example usage for updating data:\n",
    "\n",
    "        table_name = 'students'\n",
    "        input_dict = {'name': 'John Doe', 'age': 26, 'gender': 'M'}\n",
    "        where_dict = {'name': 'John', 'age': 25}\n",
    "        execute_enter_data(table_name, input_dict, update_table=True, where_dict=where_dict)\n",
    "    \"\"\"\n",
    "    if update_table:\n",
    "\n",
    "        set_query = \" , \".join(map(lambda x: rf\"{x} = {input_dict[x]}\",input_dict.keys()))\n",
    "\n",
    "        query = f\"UPDATE {table_name} SET {set_query}\"\n",
    "\n",
    "        if where_dict!=None:\n",
    "            where_clause    = \" AND \".join(map(lambda x : f\"{x} like '{where_dict[x]}'\",where_dict))\n",
    "            query           = query + \" where \"+where_clause\n",
    "        \n",
    "        \n",
    "    else:\n",
    "    \n",
    "        columns_to_enter = \",\".join(map(str,input_dict.keys()))\n",
    "        values_to_enter  = \",\".join(map(lambda x: rf\"{x}\",input_dict.values()))    \n",
    "        \n",
    "        # columns_to_enter = \",\".join(map(str,column_names))\n",
    "        # values_to_enter  = \",\".join(map(lambda x: rf\"'{x}'\",values))    \n",
    "        \n",
    "        #base query                        \n",
    "        query = f\"insert into {table_name} ({columns_to_enter}) values ({values_to_enter})\"\n",
    "\n",
    "\n",
    "    # return query\n",
    "    try:\n",
    "        # Get a connection from the pool\n",
    "        conn = pool.getconn()\n",
    "        conn.autocommit = True\n",
    "        with conn.cursor() as cursor:\n",
    "            cursor.execute(query)\n",
    "            return 1\n",
    "            # record = await cursor.fetchone()\n",
    "            # return jsonify({\"id\": record[0], \"name\": record[1], \"cost\": record[2]})\n",
    "\n",
    "    except (Exception, psycopg2.Error) as error :\n",
    "        print(query)\n",
    "        print (\"Error while inserting data from PostgreSQL -->\", error)\n",
    "        return -1\n",
    "\n",
    "    finally:\n",
    "        # Return the connection to the pool\n",
    "        if(conn):\n",
    "            pool.putconn(conn)\n",
    "            print(\"PostgreSQL connection returned to the pool\")"
   ]
  },
  {
   "cell_type": "code",
   "execution_count": null,
   "metadata": {},
   "outputs": [],
   "source": [
    "execute_enter_data()"
   ]
  },
  {
   "cell_type": "code",
   "execution_count": 21,
   "metadata": {},
   "outputs": [],
   "source": [
    "def execute_get_data(table_name:str, \n",
    "                    column_names:dict = None, \n",
    "                    where_dict:dict = None):\n",
    "\n",
    "    if column_names != None:\n",
    "        columns_to_return = \",\".join(map(str,column_names))\n",
    "    else:\n",
    "        columns_to_return = \"*\"\n",
    "    #base query                        \n",
    "    query = f\"select {columns_to_return} from {table_name}\"\n",
    "\n",
    "    if where_dict!=None:\n",
    "        where_clause    = \" AND \".join(map(lambda x : f\"{x} like '{where_dict[x]}'\",where_dict))\n",
    "        query           = query + \" where \"+where_clause\n",
    "    # return query\n",
    "\n",
    "    try:\n",
    "        # Get a connection from the pool\n",
    "        conn = pool.getconn()\n",
    "        conn.autocommit = True\n",
    "        with conn.cursor() as cursor:\n",
    "            cursor.execute(query)\n",
    "            record = cursor.fetchall()\n",
    "            return record\n",
    "\n",
    "    except (Exception, psycopg2.Error) as error :\n",
    "        print(query)\n",
    "        print (\"Error while fetching data from PostgreSQL -->\", error)\n",
    "        return -1\n",
    "\n",
    "    finally:\n",
    "        # Return the connection to the pool\n",
    "        if(conn):\n",
    "            pool.putconn(conn)\n",
    "            print(\"PostgreSQL connection returned to the pool\")"
   ]
  },
  {
   "cell_type": "markdown",
   "metadata": {},
   "source": [
    "# Testing Functions"
   ]
  },
  {
   "cell_type": "code",
   "execution_count": 26,
   "metadata": {},
   "outputs": [],
   "source": [
    "\n",
    "execute_get_data(table_name=\"USER_BALANCE\")"
   ]
  },
  {
   "cell_type": "code",
   "execution_count": 31,
   "metadata": {},
   "outputs": [
    {
     "data": {
      "text/plain": [
       "['Phone_Number', 'BALANCE', 'CURRENCY']"
      ]
     },
     "execution_count": 31,
     "metadata": {},
     "output_type": "execute_result"
    }
   ],
   "source": [
    "list(db_struct['USER_BALANCE'].keys())"
   ]
  },
  {
   "cell_type": "code",
   "execution_count": null,
   "metadata": {},
   "outputs": [],
   "source": []
  },
  {
   "cell_type": "code",
   "execution_count": null,
   "metadata": {},
   "outputs": [],
   "source": []
  },
  {
   "cell_type": "code",
   "execution_count": null,
   "metadata": {},
   "outputs": [],
   "source": []
  },
  {
   "cell_type": "code",
   "execution_count": null,
   "metadata": {},
   "outputs": [],
   "source": []
  },
  {
   "cell_type": "code",
   "execution_count": null,
   "metadata": {},
   "outputs": [],
   "source": []
  },
  {
   "cell_type": "code",
   "execution_count": null,
   "metadata": {},
   "outputs": [],
   "source": []
  },
  {
   "cell_type": "code",
   "execution_count": null,
   "metadata": {},
   "outputs": [],
   "source": []
  },
  {
   "cell_type": "code",
   "execution_count": null,
   "metadata": {},
   "outputs": [],
   "source": []
  },
  {
   "cell_type": "code",
   "execution_count": null,
   "metadata": {},
   "outputs": [],
   "source": []
  },
  {
   "cell_type": "code",
   "execution_count": null,
   "metadata": {},
   "outputs": [],
   "source": []
  },
  {
   "cell_type": "code",
   "execution_count": null,
   "metadata": {},
   "outputs": [],
   "source": []
  },
  {
   "cell_type": "code",
   "execution_count": null,
   "metadata": {},
   "outputs": [],
   "source": []
  },
  {
   "cell_type": "code",
   "execution_count": 22,
   "metadata": {},
   "outputs": [
    {
     "name": "stdout",
     "output_type": "stream",
     "text": [
      "PostgreSQL connection returned to the pool\n"
     ]
    },
    {
     "data": {
      "text/plain": [
       "[('+919958498945',\n",
       "  'test1',\n",
       "  'test1@gmail.com',\n",
       "  None,\n",
       "  None,\n",
       "  None,\n",
       "  None,\n",
       "  None,\n",
       "  None)]"
      ]
     },
     "execution_count": 22,
     "metadata": {},
     "output_type": "execute_result"
    }
   ],
   "source": [
    "execute_get_data(\"USER_DETAILS\", [\"*\"])"
   ]
  },
  {
   "cell_type": "code",
   "execution_count": 13,
   "metadata": {},
   "outputs": [
    {
     "name": "stdout",
     "output_type": "stream",
     "text": [
      "PostgreSQL connection returned to the pool\n"
     ]
    },
    {
     "data": {
      "text/plain": [
       "1"
      ]
     },
     "execution_count": 13,
     "metadata": {},
     "output_type": "execute_result"
    }
   ],
   "source": [
    "execute_enter_data(\"chimera_user\", [\"phone\",\"Address\"], [\"+919958498988\",\"0x7281F1C206e60ad12011407a60444a721A2f4D76\"])"
   ]
  },
  {
   "cell_type": "code",
   "execution_count": 6,
   "metadata": {},
   "outputs": [],
   "source": []
  },
  {
   "cell_type": "code",
   "execution_count": 21,
   "metadata": {},
   "outputs": [
    {
     "name": "stdout",
     "output_type": "stream",
     "text": [
      "PostgreSQL connection returned to the pool\n"
     ]
    }
   ],
   "source": [
    "result = execute_get_data(\"chimera_user\", [\"Address\"], {\"phone\" : \"+919958498955\"})"
   ]
  },
  {
   "cell_type": "code",
   "execution_count": 22,
   "metadata": {},
   "outputs": [
    {
     "data": {
      "text/plain": [
       "[('ABC Address',)]"
      ]
     },
     "execution_count": 22,
     "metadata": {},
     "output_type": "execute_result"
    }
   ],
   "source": [
    "result"
   ]
  },
  {
   "cell_type": "code",
   "execution_count": 23,
   "metadata": {},
   "outputs": [
    {
     "name": "stdout",
     "output_type": "stream",
     "text": [
      "PostgreSQL connection returned to the pool\n"
     ]
    },
    {
     "data": {
      "text/plain": [
       "[('+919958498955', 'ABC Address'),\n",
       " ('+919958498945', 'ABC Address'),\n",
       " ('+919958498965', 'ABCD'),\n",
       " ('+919958498944', '0x83b71f7ada2dff2758a7022151dfa7036469f58e'),\n",
       " ('+919999999997', '0x83b71f7ada2dff2758a7022151dfa7036469f58e'),\n",
       " ('+919958498988', '0x7281F1C206e60ad12011407a60444a721A2f4D76'),\n",
       " ('+919999999966', '0x83b71f7ada2dff2758a7022151dfa7036469f58e'),\n",
       " ('+919999999955', '0x83b71f7ada2dff2758a7022151dfa7036469f58e'),\n",
       " ('+919999999144', '0x83b71f7ada2dff2758a7022151dfa7036469f58e'),\n",
       " ('+919999999122', '0x83b71f7ada2dff2758a7022151dfa7036469f58e'),\n",
       " ('+919999999111', '0x83b71f7ada2dff2758a7022151dfa7036469f58e'),\n",
       " ('+919831110000', '0x83b71f7ada2dff2758a7022151dfa7036469f58e')]"
      ]
     },
     "execution_count": 23,
     "metadata": {},
     "output_type": "execute_result"
    }
   ],
   "source": [
    "execute_get_data(\"chimera_user\", [\"phone\",\"Address\"])"
   ]
  },
  {
   "cell_type": "code",
   "execution_count": 25,
   "metadata": {},
   "outputs": [
    {
     "name": "stdout",
     "output_type": "stream",
     "text": [
      "Example usage for inserting data:\n",
      "\n",
      "table_name = 'students'\n",
      "input_dict = {'name': 'John', 'age': 25, 'gender': 'M'}\n",
      "execute_enter_data(table_name, input_dict)\n",
      "\n",
      "Example usage for updating data:\n",
      "\n",
      "table_name = 'students'\n",
      "input_dict = {'name': 'John Doe', 'age': 26, 'gender': 'M'}\n",
      "where_dict = {'name': 'John', 'age': 25}\n",
      "execute_enter_data(table_name, input_dict, update_table=True, where_dict=where_dict)\n"
     ]
    }
   ],
   "source": [
    "print(\"Example usage for inserting data:\\n\\ntable_name = 'students'\\ninput_dict = {'name': 'John', 'age': 25, 'gender': 'M'}\\nexecute_enter_data(table_name, input_dict)\\n\\nExample usage for updating data:\\n\\ntable_name = 'students'\\ninput_dict = {'name': 'John Doe', 'age': 26, 'gender': 'M'}\\nwhere_dict = {'name': 'John', 'age': 25}\\nexecute_enter_data(table_name, input_dict, update_table=True, where_dict=where_dict)\")\n"
   ]
  },
  {
   "cell_type": "code",
   "execution_count": null,
   "metadata": {},
   "outputs": [],
   "source": [
    "async def execute_get_data(table_name, column_names =None, where_dict = None):\n",
    "    \n",
    "  try:\n",
    "    # Get a connection from the pool\n",
    "    conn = pool.getconn()\n",
    "\n",
    "    async with conn.cursor() as cursor:\n",
    "      postgreSQL_select_Query = \"select * from postage where id = %s\"\n",
    "      await cursor.execute(postgreSQL_select_Query, (id,))\n",
    "      record = await cursor.fetchone()\n",
    "      return jsonify({\"id\": record[0], \"name\": record[1], \"cost\": record[2]})\n",
    "\n",
    "  except (Exception, psycopg2.Error) as error :\n",
    "      print (\"Error while fetching data from PostgreSQL\", error)\n",
    "\n",
    "  finally:\n",
    "      # Return the connection to the pool\n",
    "      if(conn):\n",
    "          pool.putconn(conn)\n",
    "          print(\"PostgreSQL connection returned to the pool\")"
   ]
  },
  {
   "cell_type": "code",
   "execution_count": null,
   "metadata": {},
   "outputs": [],
   "source": [
    "async def execute_query(query):\n",
    "  try:\n",
    "    # Get a connection from the pool\n",
    "    conn = pool.getconn()\n",
    "\n",
    "    async with conn.cursor() as cursor:\n",
    "      postgreSQL_select_Query = \"select * from postage where id = %s\"\n",
    "      await cursor.execute(postgreSQL_select_Query, (id,))\n",
    "      record = await cursor.fetchone()\n",
    "      return jsonify({\"id\": record[0], \"name\": record[1], \"cost\": record[2]})\n",
    "\n",
    "  except (Exception, psycopg2.Error) as error :\n",
    "      print (\"Error while fetching data from PostgreSQL\", error)\n",
    "\n",
    "  finally:\n",
    "      # Return the connection to the pool\n",
    "      if(conn):\n",
    "          pool.putconn(conn)\n",
    "          print(\"PostgreSQL connection returned to the pool\")"
   ]
  }
 ],
 "metadata": {
  "kernelspec": {
   "display_name": "chimere_pay",
   "language": "python",
   "name": "python3"
  },
  "language_info": {
   "codemirror_mode": {
    "name": "ipython",
    "version": 3
   },
   "file_extension": ".py",
   "mimetype": "text/x-python",
   "name": "python",
   "nbconvert_exporter": "python",
   "pygments_lexer": "ipython3",
   "version": "3.8.16"
  },
  "orig_nbformat": 4,
  "vscode": {
   "interpreter": {
    "hash": "5eab6a895aa37bf66212500abeb105a81d81f52723518ccbda11a80c07b9955b"
   }
  }
 },
 "nbformat": 4,
 "nbformat_minor": 2
}
