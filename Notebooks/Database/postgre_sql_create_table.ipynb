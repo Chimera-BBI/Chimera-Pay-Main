{
 "cells": [
  {
   "cell_type": "code",
   "execution_count": 29,
   "metadata": {},
   "outputs": [],
   "source": [
    "\n",
    "import psycopg2\n",
    "\n",
    "import yaml"
   ]
  },
  {
   "cell_type": "code",
   "execution_count": 30,
   "metadata": {},
   "outputs": [],
   "source": [
    "with open('../../keys.yml', 'r') as file:\n",
    "    keys = yaml.safe_load(file)\n",
    "\n",
    "aws_keys = keys['Chimere_Aws_database']"
   ]
  },
  {
   "cell_type": "code",
   "execution_count": 1,
   "metadata": {},
   "outputs": [
    {
     "ename": "NameError",
     "evalue": "name 'yaml' is not defined",
     "output_type": "error",
     "traceback": [
      "\u001b[0;31m---------------------------------------------------------------------------\u001b[0m",
      "\u001b[0;31mNameError\u001b[0m                                 Traceback (most recent call last)",
      "Cell \u001b[0;32mIn[1], line 2\u001b[0m\n\u001b[1;32m      1\u001b[0m \u001b[39mwith\u001b[39;00m \u001b[39mopen\u001b[39m(\u001b[39m'\u001b[39m\u001b[39m../../database_structure.yml\u001b[39m\u001b[39m'\u001b[39m, \u001b[39m'\u001b[39m\u001b[39mr\u001b[39m\u001b[39m'\u001b[39m) \u001b[39mas\u001b[39;00m file:\n\u001b[0;32m----> 2\u001b[0m     db_keys \u001b[39m=\u001b[39m yaml\u001b[39m.\u001b[39msafe_load(file)\n",
      "\u001b[0;31mNameError\u001b[0m: name 'yaml' is not defined"
     ]
    }
   ],
   "source": [
    "with open('../../database_structure.yml', 'r') as file:\n",
    "    db_struct = yaml.safe_load(file)\n"
   ]
  },
  {
   "cell_type": "markdown",
   "metadata": {},
   "source": [
    "# Check Database Connection"
   ]
  },
  {
   "cell_type": "code",
   "execution_count": 16,
   "metadata": {},
   "outputs": [],
   "source": [
    "conn = psycopg2.connect(\n",
    "    host=aws_keys[\"host\"],\n",
    "    port=aws_keys[\"port\"],\n",
    "    database=aws_keys[\"database\"],\n",
    "    user=aws_keys[\"user\"],\n",
    "    password=aws_keys[\"password\"])"
   ]
  },
  {
   "cell_type": "code",
   "execution_count": 17,
   "metadata": {},
   "outputs": [],
   "source": [
    "#Creating a cursor object using the cursor() method\n",
    "cursor = conn.cursor()"
   ]
  },
  {
   "cell_type": "code",
   "execution_count": 18,
   "metadata": {},
   "outputs": [],
   "source": [
    "#Executing an MYSQL function using the execute() method\n",
    "cursor.execute(\"select version()\")"
   ]
  },
  {
   "cell_type": "code",
   "execution_count": 19,
   "metadata": {},
   "outputs": [
    {
     "name": "stdout",
     "output_type": "stream",
     "text": [
      "Connection established to:  ('PostgreSQL 13.7 on x86_64-pc-linux-gnu, compiled by gcc (GCC) 7.3.1 20180712 (Red Hat 7.3.1-12), 64-bit',)\n"
     ]
    }
   ],
   "source": [
    "# Fetch a single row using fetchone() method.\n",
    "data = cursor.fetchone()\n",
    "print(\"Connection established to: \",data)"
   ]
  },
  {
   "cell_type": "code",
   "execution_count": 26,
   "metadata": {},
   "outputs": [],
   "source": [
    "#Closing the connection\n",
    "conn.close()"
   ]
  },
  {
   "cell_type": "markdown",
   "metadata": {},
   "source": [
    "# View Existing databases and Structures "
   ]
  },
  {
   "cell_type": "code",
   "execution_count": 36,
   "metadata": {},
   "outputs": [],
   "source": [
    "conn = psycopg2.connect(\n",
    "    host=aws_keys[\"host\"],\n",
    "    port=aws_keys[\"port\"],\n",
    "    database= aws_keys[\"database\"],\n",
    "    user=aws_keys[\"user\"],\n",
    "    password=aws_keys[\"password\"])"
   ]
  },
  {
   "cell_type": "code",
   "execution_count": 37,
   "metadata": {},
   "outputs": [],
   "source": [
    "cursor = conn.cursor()    "
   ]
  },
  {
   "attachments": {},
   "cell_type": "markdown",
   "metadata": {},
   "source": [
    "## List of all databases"
   ]
  },
  {
   "cell_type": "code",
   "execution_count": 38,
   "metadata": {},
   "outputs": [
    {
     "data": {
      "text/plain": [
       "[('postgres',), ('rdsadmin',), ('chimera_pay',), ('chimere_pay',)]"
      ]
     },
     "execution_count": 38,
     "metadata": {},
     "output_type": "execute_result"
    }
   ],
   "source": [
    "sql = '''SELECT datname FROM pg_database WHERE datistemplate = false;''';\n",
    "cursor.execute(sql)\n",
    "cursor.fetchall()"
   ]
  },
  {
   "cell_type": "markdown",
   "metadata": {},
   "source": [
    "## list of tables in the database"
   ]
  },
  {
   "cell_type": "code",
   "execution_count": 46,
   "metadata": {},
   "outputs": [
    {
     "data": {
      "text/plain": [
       "[('public', 'user_details', 'BASE TABLE'),\n",
       " ('public', 'user_transactions', 'BASE TABLE')]"
      ]
     },
     "execution_count": 46,
     "metadata": {},
     "output_type": "execute_result"
    }
   ],
   "source": [
    "sql = '''\n",
    "SELECT table_schema,table_name,table_type FROM information_schema.tables\n",
    "WHERE table_schema = 'public'\n",
    "AND table_type = 'BASE TABLE'\n",
    "ORDER BY table_schema,table_name;''';\n",
    "cursor.execute(sql)\n",
    "cursor.fetchall()"
   ]
  },
  {
   "cell_type": "code",
   "execution_count": null,
   "metadata": {},
   "outputs": [],
   "source": []
  },
  {
   "attachments": {},
   "cell_type": "markdown",
   "metadata": {},
   "source": [
    "# Create Database"
   ]
  },
  {
   "cell_type": "code",
   "execution_count": 33,
   "metadata": {},
   "outputs": [],
   "source": [
    "conn = psycopg2.connect(\n",
    "    host=aws_keys[\"host\"],\n",
    "    port=aws_keys[\"port\"],\n",
    "    database=aws_keys[\"postgres_db\"],\n",
    "    user=aws_keys[\"user\"],\n",
    "    password=aws_keys[\"password\"])\n",
    "\n",
    "conn.autocommit = True\n",
    "\n",
    "#Creating a cursor object using the cursor() method\n",
    "cursor = conn.cursor()    "
   ]
  },
  {
   "cell_type": "code",
   "execution_count": 34,
   "metadata": {},
   "outputs": [
    {
     "name": "stdout",
     "output_type": "stream",
     "text": [
      "Database created successfully........\n"
     ]
    }
   ],
   "source": [
    "sql = '''CREATE database chimere_pay''';\n",
    "cursor.execute(sql)\n",
    "print(\"Database created successfully........\")"
   ]
  },
  {
   "cell_type": "code",
   "execution_count": 40,
   "metadata": {},
   "outputs": [],
   "source": [
    "#Closing the connection\n",
    "conn.close()"
   ]
  },
  {
   "cell_type": "markdown",
   "metadata": {},
   "source": [
    "# Create Table"
   ]
  },
  {
   "cell_type": "code",
   "execution_count": 41,
   "metadata": {},
   "outputs": [],
   "source": [
    "conn = psycopg2.connect(\n",
    "    host=aws_keys[\"host\"],\n",
    "    port=aws_keys[\"port\"],\n",
    "    database= aws_keys[\"database\"],\n",
    "    user=aws_keys[\"user\"],\n",
    "    password=aws_keys[\"password\"])\n",
    "\n",
    "conn.autocommit = True\n",
    "\n",
    "#Creating a cursor object using the cursor() method\n",
    "cursor = conn.cursor()    "
   ]
  },
  {
   "cell_type": "code",
   "execution_count": 43,
   "metadata": {},
   "outputs": [
    {
     "name": "stdout",
     "output_type": "stream",
     "text": [
      "Table created successfully........\n"
     ]
    }
   ],
   "source": [
    "sql = '''\n",
    "CREATE TABLE USER_DETAILS (\n",
    "    Phone_Number VARCHAR(15) ,\n",
    "    Name VARCHAR(50) ,\n",
    "    Email VARCHAR(100) ,\n",
    "    Address VARCHAR(200) ,\n",
    "    DOB DATE ,\n",
    "    Gender VARCHAR(10) ,\n",
    "    Picture BYTEA,\n",
    "    Profile_Data_Complete BOOLEAN ,\n",
    "    AML_Complete BOOLEAN ,\n",
    "    PRIMARY KEY (Phone_Number)\n",
    ");\n",
    "'''\n",
    "cursor.execute(sql)\n",
    "print(\"Table created successfully........\")"
   ]
  },
  {
   "cell_type": "code",
   "execution_count": 45,
   "metadata": {},
   "outputs": [
    {
     "name": "stdout",
     "output_type": "stream",
     "text": [
      "Table created successfully........\n"
     ]
    }
   ],
   "source": [
    "sql = '''\n",
    "CREATE TABLE USER_TRANSACTIONS (\n",
    "  transaction_ID Text PRIMARY KEY, \n",
    "  FROM_ID TEXT ,\n",
    "  TO_ID TEXT,\n",
    "  AMOUNT_SEND NUMERIC(25,5),\n",
    "  SEND_CURRENCY TEXT,\n",
    "  RECIEVE_CURRENCY TEXT,\n",
    "  SWAP_FEE_PER NUMERIC(10,5),\n",
    "  SWAP_FEE NUMERIC(25,5),\n",
    "  AMOUNT_RECIEVED NUMERIC(25,5),\n",
    "  FIAT_RECIEVED TEXT, \n",
    "  MINT_ADDRESS TEXT,\n",
    "  SWAP_ADDRESS TEXT, \n",
    "  SEND_ADDRESS TEXT,\n",
    "  BURN_ADDRESS TEXT,\n",
    "  FIAT_SENT TEXT,\n",
    "  DATE_TIME TIMESTAMP DEFAULT NOW(),\n",
    "  Exchange_Rate NUMERIC(10,5)\n",
    ");\n",
    "'''\n",
    "cursor.execute(sql)\n",
    "print(\"Table created successfully........\")"
   ]
  },
  {
   "cell_type": "code",
   "execution_count": 49,
   "metadata": {},
   "outputs": [
    {
     "name": "stdout",
     "output_type": "stream",
     "text": [
      "Table altered successfully........\n"
     ]
    }
   ],
   "source": [
    "# sql = '''\n",
    "# ALTER TABLE USER_TRANSACTIONS ADD COLUMN Exchange_Rate NUMERIC(10,5);\n",
    "# '''\n",
    "# cursor.execute(sql)\n",
    "# print(\"Table altered successfully........\")"
   ]
  },
  {
   "cell_type": "code",
   "execution_count": 47,
   "metadata": {},
   "outputs": [
    {
     "name": "stdout",
     "output_type": "stream",
     "text": [
      "Table altered successfully........\n"
     ]
    }
   ],
   "source": [
    "# sql = '''\n",
    "# ALTER TABLE USER_TRANSACTIONS ADD COLUMN DATE_TIME TIMESTAMP DEFAULT NOW();\n",
    "# '''\n",
    "# cursor.execute(sql)\n",
    "# print(\"Table altered successfully........\")\n"
   ]
  },
  {
   "cell_type": "code",
   "execution_count": 48,
   "metadata": {},
   "outputs": [
    {
     "name": "stdout",
     "output_type": "stream",
     "text": [
      "Table created successfully........\n"
     ]
    }
   ],
   "source": [
    "sql = '''\n",
    "CREATE TABLE USER_BALANCE (\n",
    "    Phone_Number VARCHAR(15) ,\n",
    "    BALANCE NUMERIC(30,5),\n",
    "    CURRENCY TEXT,\n",
    "    PRIMARY KEY (Phone_Number)\n",
    ");\n",
    "'''\n",
    "cursor.execute(sql)\n",
    "print(\"Table created successfully........\")"
   ]
  },
  {
   "cell_type": "code",
   "execution_count": null,
   "metadata": {},
   "outputs": [],
   "source": []
  }
 ],
 "metadata": {
  "kernelspec": {
   "display_name": "chimere_pay",
   "language": "python",
   "name": "python3"
  },
  "language_info": {
   "codemirror_mode": {
    "name": "ipython",
    "version": 3
   },
   "file_extension": ".py",
   "mimetype": "text/x-python",
   "name": "python",
   "nbconvert_exporter": "python",
   "pygments_lexer": "ipython3",
   "version": "3.8.16"
  },
  "orig_nbformat": 4,
  "vscode": {
   "interpreter": {
    "hash": "5eab6a895aa37bf66212500abeb105a81d81f52723518ccbda11a80c07b9955b"
   }
  }
 },
 "nbformat": 4,
 "nbformat_minor": 2
}
