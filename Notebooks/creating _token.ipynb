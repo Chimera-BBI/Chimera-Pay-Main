{
 "cells": [
  {
   "cell_type": "code",
   "execution_count": 12,
   "metadata": {},
   "outputs": [
    {
     "data": {
      "text/plain": [
       "Version('0.8.9')"
      ]
     },
     "execution_count": 12,
     "metadata": {},
     "output_type": "execute_result"
    }
   ],
   "source": [
    "import yaml\n",
    "from web3 import Web3\n",
    "import json\n",
    "import solcx\n",
    "from solcx import install_solc\n",
    "\n",
    "import json\n",
    "import os\n",
    "install_solc(\"0.8.9\") # replace this with version of solidity to use"
   ]
  },
  {
   "cell_type": "markdown",
   "metadata": {},
   "source": [
    "# Importing Keys"
   ]
  },
  {
   "cell_type": "code",
   "execution_count": 4,
   "metadata": {},
   "outputs": [],
   "source": [
    "with open('../keys.yml', 'r') as file:\n",
    "    keys = yaml.safe_load(file)"
   ]
  },
  {
   "cell_type": "markdown",
   "metadata": {},
   "source": [
    "# Defining Public and Private Key"
   ]
  },
  {
   "cell_type": "code",
   "execution_count": 17,
   "metadata": {},
   "outputs": [],
   "source": [
    "# Defining the Ethereum addresses of two accounts\n",
    "account_1 = keys[\"ganache_test1\"][\"public_key\"]\n",
    "account_2 = keys[\"ganache_test2\"][\"public_key\"]\n",
    "\n",
    "# Defining the private key of the first account\n",
    "private_key = keys[\"ganache_test1\"][\"private_key\"]"
   ]
  },
  {
   "cell_type": "markdown",
   "metadata": {},
   "source": [
    "# Connecting to a node"
   ]
  },
  {
   "cell_type": "code",
   "execution_count": 6,
   "metadata": {},
   "outputs": [
    {
     "name": "stdout",
     "output_type": "stream",
     "text": [
      "Successfully connected to the node at HTTP://127.0.0.1:7545\n"
     ]
    }
   ],
   "source": [
    "# Defining the URL of the node that will be interacting with the blockchain\n",
    "infura_url = \"HTTP://127.0.0.1:7545\"\n",
    "\n",
    "# Connecting the API to the node using the Web3 library\n",
    "web3 = Web3(Web3.HTTPProvider(infura_url))\n",
    "\n",
    "# Checking if the connection to the node was successful\n",
    "if web3.isConnected():\n",
    "    print(\"Successfully connected to the node at\", infura_url)\n",
    "else:\n",
    "    print(\"Connection to node failed. Please check the URL and try again.\")\n"
   ]
  },
  {
   "cell_type": "markdown",
   "metadata": {},
   "source": [
    "# Creating Smart Contract"
   ]
  },
  {
   "cell_type": "code",
   "execution_count": 15,
   "metadata": {},
   "outputs": [],
   "source": [
    "os.chdir('../smart_contract')\n",
    "\n",
    "with open(\"../smart_contract/INR_Stable_Coin.sol\", \"r\") as file:\n",
    "    source_code = file.read()\n",
    "\n",
    "# Compile the contract\n",
    "compiled_contract = solcx.compile_source(source_code)\n",
    "\n",
    "# Get the ABI and bytecode of the contract\n",
    "contract_abi = compiled_contract[\"<stdin>:ChimereRupee\"][\"abi\"]\n",
    "contract_bytecode = compiled_contract[\"<stdin>:ChimereRupee\"][\"bin\"]\n",
    "\n",
    "os.chdir('../Notebooks')\n"
   ]
  },
  {
   "cell_type": "code",
   "execution_count": 16,
   "metadata": {},
   "outputs": [],
   "source": [
    "with open(\"../smart_contract//ChimereRupee_abi.json\", \"w\") as file:\n",
    "    json.dump(contract_abi,file)\n",
    "with open(\"../smart_contract//ChimereRupee_bytecode.pkl\", \"w\") as file:\n",
    "    file.write(str(contract_bytecode))"
   ]
  },
  {
   "cell_type": "code",
   "execution_count": 19,
   "metadata": {},
   "outputs": [],
   "source": [
    "# Deploy the contract\n",
    "contract = web3.eth.contract(\n",
    "    abi=contract_abi,\n",
    "    bytecode=contract_bytecode\n",
    ")\n",
    "\n",
    "\n",
    "\n",
    "# Getting the nonce (number of transactions sent) of the first account\n",
    "nonce = web3.eth.getTransactionCount(account_1)\n",
    "\n",
    "\n",
    "# Get the transaction hash of the deployment\n",
    "transaction = contract.constructor().build_transaction(\n",
    "                                                        {\n",
    "                                                            \"gasPrice\": web3.eth.gas_price,\n",
    "                                                            \"from\" : account_1,\n",
    "                                                            \"nonce\" : nonce\n",
    "                                                        }\n",
    "\n",
    "                                                        )"
   ]
  },
  {
   "cell_type": "code",
   "execution_count": 20,
   "metadata": {},
   "outputs": [],
   "source": [
    "#sign transaction\n",
    "signed_transaction = web3.eth.account.sign_transaction(transaction, private_key = private_key)\n",
    "\n",
    "#transction hash\n",
    "tx_hash = web3.eth.send_raw_transaction(signed_transaction.rawTransaction)\n",
    "\n",
    "# Wait for the transaction to be mined\n",
    "tx_receipt = web3.eth.waitForTransactionReceipt(tx_hash)\n",
    "\n",
    "# Get the address of the deployed contract\n",
    "contract_address = tx_receipt[\"contractAddress\"]\n",
    "\n",
    "# Create a contract instance using the address of the deployed contract\n",
    "greeter = web3.eth.contract(\n",
    "    address=contract_address,\n",
    "    abi=contract_abi\n",
    ")\n"
   ]
  },
  {
   "cell_type": "code",
   "execution_count": 21,
   "metadata": {},
   "outputs": [
    {
     "data": {
      "text/plain": [
       "'0x3A07a0bd2c2c1d6ECE4BBC4967D84F57a6153aAD'"
      ]
     },
     "execution_count": 21,
     "metadata": {},
     "output_type": "execute_result"
    }
   ],
   "source": [
    "contract_address"
   ]
  },
  {
   "cell_type": "code",
   "execution_count": null,
   "metadata": {},
   "outputs": [],
   "source": []
  },
  {
   "cell_type": "markdown",
   "metadata": {},
   "source": [
    "# Executing Smart Contract"
   ]
  },
  {
   "cell_type": "code",
   "execution_count": 22,
   "metadata": {},
   "outputs": [
    {
     "name": "stdout",
     "output_type": "stream",
     "text": [
      "0\n"
     ]
    }
   ],
   "source": [
    "\n",
    "# Defining the ABI and address of the contract\n",
    "abi = \"\"  # Replace with the ABI of your contract\n",
    "\n",
    "with open(\"../smart_contract//ChimereRupee_abi.json\",\"r\") as file:\n",
    "    abi = json.load(file)\n",
    "\n",
    "contract_address = contract_address\n",
    "\n",
    "address = web3.toChecksumAddress(contract_address)  # Replace with the address of your contract\n",
    "\n",
    "# Creating a contract object using the Web3 library\n",
    "contract = web3.eth.contract(address=address, abi=abi)\n",
    "\n",
    "# Printing the current greeting in the contract\n",
    "print(contract.functions.totalSupply().call())\n",
    "\n"
   ]
  },
  {
   "cell_type": "code",
   "execution_count": 25,
   "metadata": {},
   "outputs": [
    {
     "name": "stdout",
     "output_type": "stream",
     "text": [
      "0\n",
      "0\n"
     ]
    }
   ],
   "source": [
    "# Printing the current greeting in the contract\n",
    "print(contract.functions.balanceOf(account_2).call())\n",
    "print(contract.functions.balanceOf(account_1).call())"
   ]
  },
  {
   "cell_type": "code",
   "execution_count": 26,
   "metadata": {},
   "outputs": [
    {
     "data": {
      "text/plain": [
       "AttributeDict({'transactionHash': HexBytes('0x1e56e9273f0e5cb5c82d42b64fbf7dd661c9eb70fb10bd9ccf2e0198d8164163'),\n",
       " 'transactionIndex': 0,\n",
       " 'blockHash': HexBytes('0xe08cff1441fb058b0c74788eebdffbed5b68cded407170c3bf12095f70cb4b43'),\n",
       " 'blockNumber': 4,\n",
       " 'from': '0x82dbbb95BEDB980E6bE1cCbc013B18c72af30149',\n",
       " 'to': '0x3A07a0bd2c2c1d6ECE4BBC4967D84F57a6153aAD',\n",
       " 'gasUsed': 67284,\n",
       " 'cumulativeGasUsed': 67284,\n",
       " 'contractAddress': None,\n",
       " 'logs': [AttributeDict({'logIndex': 0,\n",
       "   'transactionIndex': 0,\n",
       "   'transactionHash': HexBytes('0x1e56e9273f0e5cb5c82d42b64fbf7dd661c9eb70fb10bd9ccf2e0198d8164163'),\n",
       "   'blockHash': HexBytes('0xe08cff1441fb058b0c74788eebdffbed5b68cded407170c3bf12095f70cb4b43'),\n",
       "   'blockNumber': 4,\n",
       "   'address': '0x3A07a0bd2c2c1d6ECE4BBC4967D84F57a6153aAD',\n",
       "   'data': '0x0000000000000000000000000000000000000000000000000000000000000064',\n",
       "   'topics': [HexBytes('0xddf252ad1be2c89b69c2b068fc378daa952ba7f163c4a11628f55a4df523b3ef'),\n",
       "    HexBytes('0x0000000000000000000000000000000000000000000000000000000000000000'),\n",
       "    HexBytes('0x00000000000000000000000082dbbb95bedb980e6be1ccbc013b18c72af30149')],\n",
       "   'type': 'mined'})],\n",
       " 'status': 1,\n",
       " 'logsBloom': HexBytes('0x00000000000000000000000000000000000000000000000000200000010000000000000000000000000000000040000000000000000000000000000000000000080000000000000000000008000000000000000000000000400000000000000000000000020000000000000000000800000000000000000000000010020000000000000000000000000000000000000000000000000000000000000000000000000000000000000000000000000000000000000000000000000000000000000000000002000000000000000000000000000000000000000000000000000020000000000000000000000000000000000000000000000000000000000000000000')})"
      ]
     },
     "execution_count": 26,
     "metadata": {},
     "output_type": "execute_result"
    }
   ],
   "source": [
    "\n",
    "# Getting the nonce (number of transactions sent) of the first account\n",
    "nonce = web3.eth.getTransactionCount(account_1)\n",
    "\n",
    "\n",
    "# Get the transaction hash of the deployment\n",
    "transaction = contract.functions.mint(to=account_1,amount=100).build_transaction(\n",
    "                                                                                {\n",
    "                                                                                    \"gasPrice\": web3.eth.gas_price,\n",
    "                                                                                    \"from\" : account_1,\n",
    "                                                                                    \"nonce\" : nonce\n",
    "                                                                                }\n",
    "\n",
    "                                                                                )\n",
    "\n",
    "\n",
    "#sign transaction\n",
    "signed_transaction = web3.eth.account.sign_transaction(transaction, private_key = private_key)\n",
    "\n",
    "#transction hash\n",
    "tx_hash = web3.eth.send_raw_transaction(signed_transaction.rawTransaction)\n",
    "\n",
    "\n",
    "# # Updating the greeting in the contract\n",
    "# tx_hash = contract.functions.setGreeting('NEW GREETING!').transact()\n",
    "\n",
    "# Waiting for the transaction to be mined\n",
    "web3.eth.waitForTransactionReceipt(tx_hash)\n",
    "\n"
   ]
  },
  {
   "cell_type": "code",
   "execution_count": null,
   "metadata": {},
   "outputs": [
    {
     "name": "stdout",
     "output_type": "stream",
     "text": [
      "Updated greeting: Got the concept!\n"
     ]
    }
   ],
   "source": [
    "# Printing the updated greeting in the contract\n",
    "print('Updated Balance: {}'.format(contract.functions.greet().call()))\n"
   ]
  },
  {
   "cell_type": "code",
   "execution_count": 27,
   "metadata": {},
   "outputs": [
    {
     "name": "stdout",
     "output_type": "stream",
     "text": [
      "100\n"
     ]
    }
   ],
   "source": [
    "print(contract.functions.totalSupply().call())\n"
   ]
  },
  {
   "cell_type": "code",
   "execution_count": null,
   "metadata": {},
   "outputs": [],
   "source": []
  }
 ],
 "metadata": {
  "kernelspec": {
   "display_name": "chimere_pay",
   "language": "python",
   "name": "python3"
  },
  "language_info": {
   "codemirror_mode": {
    "name": "ipython",
    "version": 3
   },
   "file_extension": ".py",
   "mimetype": "text/x-python",
   "name": "python",
   "nbconvert_exporter": "python",
   "pygments_lexer": "ipython3",
   "version": "3.8.16"
  },
  "orig_nbformat": 4,
  "vscode": {
   "interpreter": {
    "hash": "5eab6a895aa37bf66212500abeb105a81d81f52723518ccbda11a80c07b9955b"
   }
  }
 },
 "nbformat": 4,
 "nbformat_minor": 2
}
