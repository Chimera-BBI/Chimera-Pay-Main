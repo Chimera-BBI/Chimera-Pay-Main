{
 "cells": [
  {
   "cell_type": "code",
   "execution_count": 1,
   "metadata": {},
   "outputs": [],
   "source": [
    "import yaml\n",
    "from web3 import Web3\n",
    "import json\n",
    "import solcx\n",
    "from solcx import install_solc\n",
    "\n",
    "import json\n"
   ]
  },
  {
   "cell_type": "markdown",
   "metadata": {},
   "source": [
    "# Importing Keys"
   ]
  },
  {
   "cell_type": "code",
   "execution_count": 2,
   "metadata": {},
   "outputs": [],
   "source": [
    "with open('../keys.yml', 'r') as file:\n",
    "    keys = yaml.safe_load(file)"
   ]
  },
  {
   "cell_type": "code",
   "execution_count": 3,
   "metadata": {},
   "outputs": [
    {
     "data": {
      "text/plain": [
       "{'ganache_test1': {'private_key': '8c4dd9665e36a607c899d98a9480194211e68df875278aab140aa4af8fad5b93',\n",
       "  'public_key': '0x82dbbb95BEDB980E6bE1cCbc013B18c72af30149'},\n",
       " 'ganache_test2': {'private_key': '07ecae43a6519c7aeca89b63b0e62c37d46020256bc4f8b175cd71cd85b9d3d7',\n",
       "  'public_key': '0x2C36FEeb1dCf2215F6B1A684a2e13Bc1cF1356Ab'}}"
      ]
     },
     "execution_count": 3,
     "metadata": {},
     "output_type": "execute_result"
    }
   ],
   "source": [
    "keys"
   ]
  },
  {
   "cell_type": "markdown",
   "metadata": {},
   "source": [
    "# Importing Keys"
   ]
  },
  {
   "cell_type": "code",
   "execution_count": 5,
   "metadata": {},
   "outputs": [],
   "source": [
    "with open('../keys.yml', 'r') as file:\n",
    "    keys = yaml.safe_load(file)"
   ]
  },
  {
   "cell_type": "code",
   "execution_count": 6,
   "metadata": {},
   "outputs": [
    {
     "data": {
      "text/plain": [
       "{'ganache_test1': {'private_key': '8c4dd9665e36a607c899d98a9480194211e68df875278aab140aa4af8fad5b93',\n",
       "  'public_key': '0x82dbbb95BEDB980E6bE1cCbc013B18c72af30149'},\n",
       " 'ganache_test2': {'private_key': '07ecae43a6519c7aeca89b63b0e62c37d46020256bc4f8b175cd71cd85b9d3d7',\n",
       "  'public_key': '0x2C36FEeb1dCf2215F6B1A684a2e13Bc1cF1356Ab'}}"
      ]
     },
     "execution_count": 6,
     "metadata": {},
     "output_type": "execute_result"
    }
   ],
   "source": [
    "keys"
   ]
  },
  {
   "cell_type": "markdown",
   "metadata": {},
   "source": [
    "# Connecting to a node"
   ]
  },
  {
   "cell_type": "code",
   "execution_count": 7,
   "metadata": {},
   "outputs": [
    {
     "name": "stdout",
     "output_type": "stream",
     "text": [
      "Successfully connected to the node at HTTP://127.0.0.1:7545\n"
     ]
    }
   ],
   "source": [
    "# Defining the URL of the node that will be interacting with the blockchain\n",
    "infura_url = \"HTTP://127.0.0.1:7545\"\n",
    "\n",
    "# Connecting the API to the node using the Web3 library\n",
    "web3 = Web3(Web3.HTTPProvider(infura_url))\n",
    "\n",
    "# Checking if the connection to the node was successful\n",
    "if web3.isConnected():\n",
    "    print(\"Successfully connected to the node at\", infura_url)\n",
    "else:\n",
    "    print(\"Connection to node failed. Please check the URL and try again.\")\n"
   ]
  },
  {
   "cell_type": "markdown",
   "metadata": {},
   "source": [
    "# Creating Smart Contract"
   ]
  },
  {
   "cell_type": "code",
   "execution_count": null,
   "metadata": {},
   "outputs": [],
   "source": [
    "with open(\"../smart_contract//Greeter.sol\", \"r\") as file:\n",
    "    source_code = file.read()\n",
    "\n",
    "# Compile the contract\n",
    "compiled_contract = solcx.compile_source(source_code)\n",
    "\n",
    "# Get the ABI and bytecode of the contract\n",
    "contract_abi = compiled_contract[\"<stdin>:Greeter\"][\"abi\"]\n",
    "contract_bytecode = compiled_contract[\"<stdin>:Greeter\"][\"bin\"]"
   ]
  },
  {
   "cell_type": "code",
   "execution_count": null,
   "metadata": {},
   "outputs": [],
   "source": [
    "with open(\"../smart_contract//Greeter_abi.json\", \"w\") as file:\n",
    "    json.dump(contract_abi,file)\n",
    "with open(\"../smart_contract//Greeter_bytecode.pkl\", \"w\") as file:\n",
    "    file.write(str(contract_bytecode))"
   ]
  },
  {
   "cell_type": "code",
   "execution_count": null,
   "metadata": {},
   "outputs": [],
   "source": [
    "# Deploy the contract\n",
    "contract = web3.eth.contract(\n",
    "    abi=contract_abi,\n",
    "    bytecode=contract_bytecode\n",
    ")\n",
    "\n",
    "\n",
    "\n",
    "# Getting the nonce (number of transactions sent) of the first account\n",
    "nonce = web3.eth.getTransactionCount(account_1)\n",
    "\n",
    "\n",
    "# Get the transaction hash of the deployment\n",
    "transaction = contract.constructor().build_transaction(\n",
    "                                                        {\n",
    "                                                            \"gasPrice\": web3.eth.gas_price,\n",
    "                                                            \"from\" : account_1,\n",
    "                                                            \"nonce\" : nonce\n",
    "                                                        }\n",
    "\n",
    "                                                        )"
   ]
  },
  {
   "cell_type": "code",
   "execution_count": null,
   "metadata": {},
   "outputs": [],
   "source": [
    "#sign transaction\n",
    "signed_transaction = web3.eth.account.sign_transaction(transaction, private_key = private_key)\n",
    "\n",
    "#transction hash\n",
    "tx_hash = web3.eth.send_raw_transaction(signed_transaction.rawTransaction)\n",
    "\n",
    "# Wait for the transaction to be mined\n",
    "tx_receipt = web3.eth.waitForTransactionReceipt(tx_hash)\n",
    "\n",
    "# Get the address of the deployed contract\n",
    "contract_address = tx_receipt[\"contractAddress\"]\n",
    "\n",
    "# Create a contract instance using the address of the deployed contract\n",
    "greeter = web3.eth.contract(\n",
    "    address=contract_address,\n",
    "    abi=contract_abi\n",
    ")\n"
   ]
  },
  {
   "cell_type": "code",
   "execution_count": null,
   "metadata": {},
   "outputs": [
    {
     "data": {
      "text/plain": [
       "'0x903852a0fAbF43672D63da340ec58382e81d2430'"
      ]
     },
     "metadata": {},
     "output_type": "display_data"
    }
   ],
   "source": [
    "contract_address"
   ]
  }
 ],
 "metadata": {
  "kernelspec": {
   "display_name": "chimere_pay",
   "language": "python",
   "name": "python3"
  },
  "language_info": {
   "codemirror_mode": {
    "name": "ipython",
    "version": 3
   },
   "file_extension": ".py",
   "mimetype": "text/x-python",
   "name": "python",
   "nbconvert_exporter": "python",
   "pygments_lexer": "ipython3",
   "version": "3.8.16"
  },
  "orig_nbformat": 4,
  "vscode": {
   "interpreter": {
    "hash": "5eab6a895aa37bf66212500abeb105a81d81f52723518ccbda11a80c07b9955b"
   }
  }
 },
 "nbformat": 4,
 "nbformat_minor": 2
}
