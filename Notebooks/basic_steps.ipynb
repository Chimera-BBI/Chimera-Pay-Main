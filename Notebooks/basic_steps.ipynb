{
 "cells": [
  {
   "cell_type": "code",
   "execution_count": 12,
   "metadata": {},
   "outputs": [
    {
     "data": {
      "text/plain": [
       "Version('0.6.0')"
      ]
     },
     "execution_count": 12,
     "metadata": {},
     "output_type": "execute_result"
    }
   ],
   "source": [
    "import yaml\n",
    "from web3 import Web3\n",
    "import json\n",
    "import solcx\n",
    "from solcx import install_solc\n",
    "\n",
    "import json\n",
    "\n",
    "install_solc(\"0.6.0\")"
   ]
  },
  {
   "attachments": {},
   "cell_type": "markdown",
   "metadata": {},
   "source": [
    "# Importing Keys"
   ]
  },
  {
   "cell_type": "code",
   "execution_count": 9,
   "metadata": {},
   "outputs": [],
   "source": [
    "with open('../keys.yml', 'r') as file:\n",
    "    keys = yaml.safe_load(file)"
   ]
  },
  {
   "attachments": {},
   "cell_type": "markdown",
   "metadata": {},
   "source": [
    "# Connecting to a node"
   ]
  },
  {
   "cell_type": "code",
   "execution_count": 6,
   "metadata": {},
   "outputs": [
    {
     "name": "stdout",
     "output_type": "stream",
     "text": [
      "Successfully connected to the node at HTTP://127.0.0.1:7545\n"
     ]
    }
   ],
   "source": [
    "# Defining the URL of the node that will be interacting with the blockchain\n",
    "infura_url = \"HTTP://127.0.0.1:7545\"\n",
    "\n",
    "# Connecting the API to the node using the Web3 library\n",
    "web3 = Web3(Web3.HTTPProvider(infura_url))\n",
    "\n",
    "# Checking if the connection to the node was successful\n",
    "if web3.isConnected():\n",
    "    print(\"Successfully connected to the node at\", infura_url)\n",
    "else:\n",
    "    print(\"Connection to node failed. Please check the URL and try again.\")\n"
   ]
  },
  {
   "cell_type": "code",
   "execution_count": 11,
   "metadata": {},
   "outputs": [
    {
     "name": "stdout",
     "output_type": "stream",
     "text": [
      "The current block number is 0\n",
      "The balance of the wallet at 0x82dbbb95BEDB980E6bE1cCbc013B18c72af30149 is 100 Ether\n"
     ]
    }
   ],
   "source": [
    "# Getting the current block number of the entire blockchain\n",
    "current_block_number = web3.eth.blockNumber\n",
    "print(\"The current block number is\", current_block_number)\n",
    "\n",
    "# Defining the address of the wallet whose balance we want to check\n",
    "wallet_address = keys[\"ganache_test1\"][\"public_key\"]\n",
    "\n",
    "# Getting the balance of the wallet in Wei using the getBalance method\n",
    "balance_in_wei = web3.eth.getBalance(wallet_address)\n",
    "\n",
    "# Converting the balance from Wei to Ether using the fromWei method\n",
    "balance_in_ether = web3.fromWei(balance_in_wei, \"ether\")\n",
    "print(\"The balance of the wallet at\", wallet_address, \"is\", balance_in_ether, \"Ether\")\n"
   ]
  },
  {
   "attachments": {},
   "cell_type": "markdown",
   "metadata": {},
   "source": [
    "# Defining Public and Private Key"
   ]
  },
  {
   "cell_type": "code",
   "execution_count": 33,
   "metadata": {},
   "outputs": [],
   "source": [
    "# Defining the Ethereum addresses of two accounts\n",
    "account_1 = keys[\"ganache_test1\"][\"public_key\"]\n",
    "account_2 = keys[\"ganache_test2\"][\"public_key\"]\n",
    "\n",
    "# Defining the private key of the first account\n",
    "private_key = keys[\"ganache_test1\"][\"private_key\"]"
   ]
  },
  {
   "cell_type": "markdown",
   "metadata": {},
   "source": [
    "# Creating Smart Contract"
   ]
  },
  {
   "cell_type": "code",
   "execution_count": 14,
   "metadata": {},
   "outputs": [],
   "source": [
    "with open(\"../smart_contract//Greeter.sol\", \"r\") as file:\n",
    "    source_code = file.read()\n",
    "\n",
    "# Compile the contract\n",
    "compiled_contract = solcx.compile_source(source_code)\n",
    "\n",
    "# Get the ABI and bytecode of the contract\n",
    "contract_abi = compiled_contract[\"<stdin>:Greeter\"][\"abi\"]\n",
    "contract_bytecode = compiled_contract[\"<stdin>:Greeter\"][\"bin\"]"
   ]
  },
  {
   "cell_type": "code",
   "execution_count": 23,
   "metadata": {},
   "outputs": [],
   "source": [
    "with open(\"../smart_contract//Greeter_abi.json\", \"w\") as file:\n",
    "    json.dump(contract_abi,file)\n",
    "with open(\"../smart_contract//Greeter_bytecode.pkl\", \"w\") as file:\n",
    "    file.write(str(contract_bytecode))"
   ]
  },
  {
   "cell_type": "code",
   "execution_count": 25,
   "metadata": {},
   "outputs": [],
   "source": [
    "# Deploy the contract\n",
    "contract = web3.eth.contract(\n",
    "    abi=contract_abi,\n",
    "    bytecode=contract_bytecode\n",
    ")\n",
    "\n",
    "\n",
    "\n",
    "# Getting the nonce (number of transactions sent) of the first account\n",
    "nonce = web3.eth.getTransactionCount(account_1)\n",
    "\n",
    "\n",
    "# Get the transaction hash of the deployment\n",
    "transaction = contract.constructor().build_transaction(\n",
    "                                                        {\n",
    "                                                            \"gasPrice\": web3.eth.gas_price,\n",
    "                                                            \"from\" : account_1,\n",
    "                                                            \"nonce\" : nonce\n",
    "                                                        }\n",
    "\n",
    "                                                        )"
   ]
  },
  {
   "cell_type": "code",
   "execution_count": 27,
   "metadata": {},
   "outputs": [],
   "source": [
    "#sign transaction\n",
    "signed_transaction = web3.eth.account.sign_transaction(transaction, private_key = private_key)\n",
    "\n",
    "#transction hash\n",
    "tx_hash = web3.eth.send_raw_transaction(signed_transaction.rawTransaction)\n",
    "\n",
    "# Wait for the transaction to be mined\n",
    "tx_receipt = web3.eth.waitForTransactionReceipt(tx_hash)\n",
    "\n",
    "# Get the address of the deployed contract\n",
    "contract_address = tx_receipt[\"contractAddress\"]\n",
    "\n",
    "# Create a contract instance using the address of the deployed contract\n",
    "greeter = web3.eth.contract(\n",
    "    address=contract_address,\n",
    "    abi=contract_abi\n",
    ")\n"
   ]
  },
  {
   "cell_type": "code",
   "execution_count": 28,
   "metadata": {},
   "outputs": [
    {
     "data": {
      "text/plain": [
       "'0x903852a0fAbF43672D63da340ec58382e81d2430'"
      ]
     },
     "execution_count": 28,
     "metadata": {},
     "output_type": "execute_result"
    }
   ],
   "source": [
    "contract_address"
   ]
  },
  {
   "attachments": {},
   "cell_type": "markdown",
   "metadata": {},
   "source": [
    "# Executing Smart Contract"
   ]
  },
  {
   "cell_type": "code",
   "execution_count": 29,
   "metadata": {},
   "outputs": [
    {
     "name": "stdout",
     "output_type": "stream",
     "text": [
      "Hello\n"
     ]
    }
   ],
   "source": [
    "\n",
    "# Defining the ABI and address of the contract\n",
    "abi = \"\"  # Replace with the ABI of your contract\n",
    "\n",
    "with open(\"../smart_contract//Greeter_abi.json\",\"r\") as file:\n",
    "    abi = json.load(file)\n",
    "\n",
    "contract_address = contract_address\n",
    "\n",
    "address = web3.toChecksumAddress(contract_address)  # Replace with the address of your contract\n",
    "\n",
    "# Creating a contract object using the Web3 library\n",
    "contract = web3.eth.contract(address=address, abi=abi)\n",
    "\n",
    "# Printing the current greeting in the contract\n",
    "print(contract.functions.greet().call())\n",
    "\n"
   ]
  },
  {
   "cell_type": "code",
   "execution_count": 31,
   "metadata": {},
   "outputs": [
    {
     "data": {
      "text/plain": [
       "AttributeDict({'transactionHash': HexBytes('0x8e09c4481ea9ad4c0900477a39e86939ac113c3e65ac994b89091b19cd6ca7dd'),\n",
       " 'transactionIndex': 0,\n",
       " 'blockHash': HexBytes('0x2e881212e96e1e154717e2d154e85cc7009bba67facd3fbd12f423abc9f32c21'),\n",
       " 'blockNumber': 2,\n",
       " 'from': '0x82dbbb95BEDB980E6bE1cCbc013B18c72af30149',\n",
       " 'to': '0x903852a0fAbF43672D63da340ec58382e81d2430',\n",
       " 'gasUsed': 29205,\n",
       " 'cumulativeGasUsed': 29205,\n",
       " 'contractAddress': None,\n",
       " 'logs': [],\n",
       " 'status': 1,\n",
       " 'logsBloom': HexBytes('0x00000000000000000000000000000000000000000000000000000000000000000000000000000000000000000000000000000000000000000000000000000000000000000000000000000000000000000000000000000000000000000000000000000000000000000000000000000000000000000000000000000000000000000000000000000000000000000000000000000000000000000000000000000000000000000000000000000000000000000000000000000000000000000000000000000000000000000000000000000000000000000000000000000000000000000000000000000000000000000000000000000000000000000000000000000000')})"
      ]
     },
     "execution_count": 31,
     "metadata": {},
     "output_type": "execute_result"
    }
   ],
   "source": [
    "\n",
    "# Getting the nonce (number of transactions sent) of the first account\n",
    "nonce = web3.eth.getTransactionCount(account_1)\n",
    "\n",
    "\n",
    "# Get the transaction hash of the deployment\n",
    "transaction = contract.functions.setGreeting('Got the concept!').build_transaction(\n",
    "                                                                                {\n",
    "                                                                                    \"gasPrice\": web3.eth.gas_price,\n",
    "                                                                                    \"from\" : account_1,\n",
    "                                                                                    \"nonce\" : nonce\n",
    "                                                                                }\n",
    "\n",
    "                                                                                )\n",
    "\n",
    "\n",
    "#sign transaction\n",
    "signed_transaction = web3.eth.account.sign_transaction(transaction, private_key = private_key)\n",
    "\n",
    "#transction hash\n",
    "tx_hash = web3.eth.send_raw_transaction(signed_transaction.rawTransaction)\n",
    "\n",
    "\n",
    "# # Updating the greeting in the contract\n",
    "# tx_hash = contract.functions.setGreeting('NEW GREETING!').transact()\n",
    "\n",
    "# Waiting for the transaction to be mined\n",
    "web3.eth.waitForTransactionReceipt(tx_hash)\n",
    "\n"
   ]
  },
  {
   "cell_type": "code",
   "execution_count": 32,
   "metadata": {},
   "outputs": [
    {
     "name": "stdout",
     "output_type": "stream",
     "text": [
      "Updated greeting: Got the concept!\n"
     ]
    }
   ],
   "source": [
    "# Printing the updated greeting in the contract\n",
    "print('Updated greeting: {}'.format(contract.functions.greet().call()))\n"
   ]
  },
  {
   "cell_type": "code",
   "execution_count": null,
   "metadata": {},
   "outputs": [],
   "source": []
  },
  {
   "cell_type": "code",
   "execution_count": null,
   "metadata": {},
   "outputs": [],
   "source": []
  }
 ],
 "metadata": {
  "kernelspec": {
   "display_name": "Python 3",
   "language": "python",
   "name": "python3"
  },
  "language_info": {
   "codemirror_mode": {
    "name": "ipython",
    "version": 3
   },
   "file_extension": ".py",
   "mimetype": "text/x-python",
   "name": "python",
   "nbconvert_exporter": "python",
   "pygments_lexer": "ipython3",
   "version": "3.10.8"
  },
  "orig_nbformat": 4,
  "vscode": {
   "interpreter": {
    "hash": "b0fa6594d8f4cbf19f97940f81e996739fb7646882a419484c72d19e05852a7e"
   }
  }
 },
 "nbformat": 4,
 "nbformat_minor": 2
}
